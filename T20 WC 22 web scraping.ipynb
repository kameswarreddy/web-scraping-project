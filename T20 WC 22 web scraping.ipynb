{
 "cells": [
  {
   "cell_type": "markdown",
   "id": "72130b80",
   "metadata": {},
   "source": [
    "# collecting T20 cricket world cup 2022 sports results\n"
   ]
  },
  {
   "cell_type": "markdown",
   "id": "ff91fcc7",
   "metadata": {},
   "source": [
    "# Objective of the project\n",
    "#T20 cricket world cup 2022\n",
    "#collect the data for below mentioned conditions\n",
    "        #<1> Match sheduled date,\n",
    "        #<2> Match between the country Teams\n",
    "        #<3> Location of match to be held and \n",
    "        #<4> results of match "
   ]
  },
  {
   "cell_type": "code",
   "execution_count": null,
   "id": "e86eb426",
   "metadata": {},
   "outputs": [],
   "source": [
    "### project outline:\n",
    "#--------> installing the required libraries like requests,Beautifulsoap,and pandas\n",
    "#--------> creating a pandas DataFrame with the obtained resullts\n",
    "#--------> save the dataframe and convert it into CSV files"
   ]
  },
  {
   "cell_type": "code",
   "execution_count": 2,
   "id": "08341b99",
   "metadata": {},
   "outputs": [
    {
     "name": "stdout",
     "output_type": "stream",
     "text": [
      "Requirement already satisfied: pandas in c:\\users\\bharath kuamr reddy\\ykr\\lib\\site-packages (1.3.4)\n",
      "Requirement already satisfied: python-dateutil>=2.7.3 in c:\\users\\bharath kuamr reddy\\ykr\\lib\\site-packages (from pandas) (2.8.2)\n",
      "Requirement already satisfied: numpy>=1.17.3 in c:\\users\\bharath kuamr reddy\\ykr\\lib\\site-packages (from pandas) (1.20.3)\n",
      "Requirement already satisfied: pytz>=2017.3 in c:\\users\\bharath kuamr reddy\\ykr\\lib\\site-packages (from pandas) (2021.3)\n",
      "Requirement already satisfied: six>=1.5 in c:\\users\\bharath kuamr reddy\\ykr\\lib\\site-packages (from python-dateutil>=2.7.3->pandas) (1.16.0)\n",
      "Requirement already satisfied: requests in c:\\users\\bharath kuamr reddy\\ykr\\lib\\site-packages (2.26.0)\n",
      "Requirement already satisfied: urllib3<1.27,>=1.21.1 in c:\\users\\bharath kuamr reddy\\ykr\\lib\\site-packages (from requests) (1.26.7)\n",
      "Requirement already satisfied: certifi>=2017.4.17 in c:\\users\\bharath kuamr reddy\\ykr\\lib\\site-packages (from requests) (2021.10.8)\n",
      "Requirement already satisfied: idna<4,>=2.5 in c:\\users\\bharath kuamr reddy\\ykr\\lib\\site-packages (from requests) (3.2)\n",
      "Requirement already satisfied: charset-normalizer~=2.0.0 in c:\\users\\bharath kuamr reddy\\ykr\\lib\\site-packages (from requests) (2.0.4)\n",
      "Requirement already satisfied: install in c:\\users\\bharath kuamr reddy\\ykr\\lib\\site-packages (1.3.5)\n",
      "Requirement already satisfied: beautifulsoup4 in c:\\users\\bharath kuamr reddy\\ykr\\lib\\site-packages (4.11.1)\n",
      "Requirement already satisfied: soupsieve>1.2 in c:\\users\\bharath kuamr reddy\\ykr\\lib\\site-packages (from beautifulsoup4) (2.2.1)\n"
     ]
    }
   ],
   "source": [
    "#### installing required libraries\n",
    "\n",
    "!pip install pandas\n",
    "!pip install requests\n",
    "!pip install install beautifulsoup4\n"
   ]
  },
  {
   "cell_type": "code",
   "execution_count": 12,
   "id": "75336381",
   "metadata": {},
   "outputs": [],
   "source": [
    "## import libraries\n",
    "import pandas as pd\n",
    "from bs4 import BeautifulSoup  \n",
    "import requests"
   ]
  },
  {
   "cell_type": "code",
   "execution_count": null,
   "id": "d778cfbf",
   "metadata": {},
   "outputs": [],
   "source": []
  },
  {
   "cell_type": "code",
   "execution_count": 115,
   "id": "fecbccc5",
   "metadata": {},
   "outputs": [],
   "source": [
    "## stored the url of required webpage in variable\n",
    "\n",
    "sports_url ='https://www.espncricinfo.com/series/icc-men-s-t20-world-cup-2022-23-1298134/match-schedule-fixtures-and-results'\n",
    "response = requests.get(sports_url)\n",
    "content = response.text\n",
    "\n",
    "## Beautifulsoup is used to parse the html content\n",
    "\n",
    "page_doc = BeautifulSoup(content,'html.parser')\n",
    "\n",
    "## storing the required tages in their respective varibles\n",
    "\n",
    "\n",
    "date_tags = page_doc.find_all('div',{'class':'ds-text-compact-xs ds-font-bold ds-w-24'})\n",
    "opp1_tags = page_doc.find_all('p',{'class':'ds-text-tight-m ds-font-bold ds-capitalize ds-truncate'})\n",
    "#opp2_tags = page_doc.find_all('div',{'class':\"ds-flex ds-items-center ds-min-w-0 ds-mr-1\"})\n",
    "res_tags = page_doc.find_all('p',{'class':'ds-text-tight-s ds-font-regular ds-line-clamp-2 ds-text-typo-title'})\n",
    "mat_loctag = page_doc.find_all('div',{'class':'ds-text-tight-xs ds-truncate ds-text-ui-typo-mid'})\n",
    "\n",
    "## declaring the list to store the data\n",
    "\n",
    "location = []\n",
    "datess = []\n",
    "opp1 = []\n",
    "opp2 = []\n",
    "res = []\n",
    "for i in range(len(date_tags)):\n",
    "   datess.append(date_tags[i].text)\n",
    "for i in range(len(opp1_tags)):\n",
    "    if i%2==0:\n",
    "        opp1.append(opp1_tags[i].text)\n",
    "    else:\n",
    "        opp2.append(opp1_tags[i].text)\n",
    "for i in range(len(mat_loctag)):\n",
    "    location.append(mat_loctag[i].text)\n",
    "        \n",
    "#for i in range(len(opp2_tags)):\n",
    "#  opp2.append(opp2[i].text)\n",
    "\n",
    "for i in range(len(res_tags)):\n",
    "   res.append(res_tags[i].text)\n",
    "## creating a dictionary to make a DataFrame\n",
    "\n",
    "dic = {'match Date':datess,'Match Location':location,'Team-1':opp1,'Team-2':opp2,'Result':res}\n",
    "table = pd.DataFrame(dic)\n",
    "table\n",
    "## saving details in CSV file to device\n",
    "\n",
    "table.to_csv('T20 WC 22_web scraping.csv')\n"
   ]
  },
  {
   "cell_type": "code",
   "execution_count": null,
   "id": "72a270c4",
   "metadata": {},
   "outputs": [],
   "source": []
  },
  {
   "cell_type": "code",
   "execution_count": null,
   "id": "d1d1773f",
   "metadata": {},
   "outputs": [],
   "source": []
  },
  {
   "cell_type": "code",
   "execution_count": null,
   "id": "8c7f84a3",
   "metadata": {},
   "outputs": [],
   "source": []
  }
 ],
 "metadata": {
  "kernelspec": {
   "display_name": "Python 3 (ipykernel)",
   "language": "python",
   "name": "python3"
  },
  "language_info": {
   "codemirror_mode": {
    "name": "ipython",
    "version": 3
   },
   "file_extension": ".py",
   "mimetype": "text/x-python",
   "name": "python",
   "nbconvert_exporter": "python",
   "pygments_lexer": "ipython3",
   "version": "3.9.7"
  }
 },
 "nbformat": 4,
 "nbformat_minor": 5
}
